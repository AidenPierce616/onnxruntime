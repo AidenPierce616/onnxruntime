{
 "cells": [
  {
   "cell_type": "code",
   "execution_count": 1,
   "id": "369e6d7d",
   "metadata": {},
   "outputs": [],
   "source": [
    "import collections\n",
    "import requests\n",
    "from bs4 import BeautifulSoup\n",
    "import re\n",
    "\n",
    "# Make sure it points to the latest trt deprecated api html\n",
    "url = \"https://docs.nvidia.com/deeplearning/tensorrt/api/c_api/deprecated.html\"\n",
    "\n",
    "response = requests.get(url)\n",
    "\n",
    "if response.status_code == 200:\n",
    "    soup = BeautifulSoup(response.content, 'html.parser')\n",
    "    text = soup.get_text()\n",
    "    # Check pattern which starts with nvinfer1::\n",
    "    pattern = re.compile(r'nvinfer1::([\\w:]+)')\n",
    "    matches = pattern.findall(text)\n",
    "    api_names = [match.split('::')[-1] for match in matches]\n",
    "else:\n",
    "    print(\"Parse Failed\")\n",
    "\n",
    "def func(file_path, api_names):\n",
    "    results = collections.defaultdict(list)\n",
    "    patterns = [(api, re.compile(r'\\b{}\\b'.format(re.escape(api)))) for api in api_names]\n",
    "    \n",
    "    def is_within_string(line, index):\n",
    "        # Check if the character at the given index is within a string (surrounded by quotes)\n",
    "        return line.count('\"', 0, index) % 2 != 0 or line.count(\"'\", 0, index) % 2 != 0\n",
    "    \n",
    "    with open(file_path, 'r') as file:\n",
    "        for line_number, line in enumerate(file, 1):\n",
    "            # Skip lines with comments\n",
    "            if line.strip() == \"\" or line.strip().startswith(\"//\") or line.strip().startswith(\"/*\") or line.strip().startswith('#'):\n",
    "                continue\n",
    "            for api, pattern in patterns:\n",
    "                match = pattern.search(line)\n",
    "                if match and not is_within_string(line, match.start()):\n",
    "                    results[api].append(f\"Ln{line_number}\")\n",
    "\n",
    "    return results"
   ]
  },
  {
   "cell_type": "code",
   "execution_count": 2,
   "id": "247c38a4",
   "metadata": {},
   "outputs": [
    {
     "name": "stdout",
     "output_type": "stream",
     "text": [
      "setMaxWorkspaceSize\n",
      "['Ln2509', 'Ln3128']\n",
      "kENABLE_TACTIC_HEURISTIC\n",
      "['Ln2729', 'Ln3166']\n",
      "deserializeCudaEngine\n",
      "['Ln2806', 'Ln2825', 'Ln2866', 'Ln3070', 'Ln3095', 'Ln3226']\n"
     ]
    }
   ],
   "source": [
    "ans = func(\"/home/yifanl/onnxruntime/onnxruntime/core/providers/tensorrt/tensorrt_execution_provider.cc\", api_names) \n",
    "for k in ans:\n",
    "    print(f\"{k}\")\n",
    "    print(ans[k])"
   ]
  }
 ],
 "metadata": {
  "kernelspec": {
   "display_name": "Python 3 (ipykernel)",
   "language": "python",
   "name": "python3"
  },
  "language_info": {
   "codemirror_mode": {
    "name": "ipython",
    "version": 3
   },
   "file_extension": ".py",
   "mimetype": "text/x-python",
   "name": "python",
   "nbconvert_exporter": "python",
   "pygments_lexer": "ipython3",
   "version": "3.9.12"
  }
 },
 "nbformat": 4,
 "nbformat_minor": 5
}
